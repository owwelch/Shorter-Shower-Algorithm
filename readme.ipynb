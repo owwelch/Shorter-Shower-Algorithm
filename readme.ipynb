{
 "cells": [
  {
   "cell_type": "markdown",
   "id": "f75953ad",
   "metadata": {},
   "source": [
    "- data: directory containing all the subdirectories of groundtruthed/reduced data on which the model is trained/validated/tested\n",
    "\n",
    "- results: folder containing error logs and results from running model.py to test the neuron counts for neural nets to predict Starts/Ends. csv files countain training and validation mean absolute error at each point in the training process.\n",
    "\n",
    "- model.ipynb: notebook used to write and test the model.\n",
    "\n",
    "- simulattion.ipynb: notebook used to write and test the simulation of the model on \"real\" data.\n",
    "\n",
    "- model.py: python script to train the model, given some training data. Neuron counts for the hidden layer, and model type (Start or End) can be specified via the command line. The script first loops through all the data-containing files of the data directory, adds all their contents (temperature readings and labels) to a big dataframe, and randomly chooses contiguous sets of temperature readings, half of which have the middle value assigned the relevant label, and half of which do not. Sets of data for which the middle value has the label are paired with the target value 1, and sets which do not are paired with target value 0. This data is then randomly shuffled, and broken up into training/testing/validation sets. Finally, the model is compiled and trained to predict the target feature"
   ]
  }
 ],
 "metadata": {
  "kernelspec": {
   "display_name": "Python 3 (ipykernel)",
   "language": "python",
   "name": "python3"
  },
  "language_info": {
   "codemirror_mode": {
    "name": "ipython",
    "version": 3
   },
   "file_extension": ".py",
   "mimetype": "text/x-python",
   "name": "python",
   "nbconvert_exporter": "python",
   "pygments_lexer": "ipython3",
   "version": "3.9.7"
  }
 },
 "nbformat": 4,
 "nbformat_minor": 5
}
