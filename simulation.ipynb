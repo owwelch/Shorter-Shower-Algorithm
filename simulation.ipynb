{
 "cells": [
  {
   "cell_type": "code",
   "execution_count": 1,
   "id": "e96599c8",
   "metadata": {},
   "outputs": [],
   "source": [
    "#note: temp readings are 20s apart\n",
    "\n",
    "import pandas as pd\n",
    "import os\n",
    "import matplotlib.pyplot as plt\n",
    "import random\n",
    "import tensorflow as tf\n",
    "from keras.models import Sequential\n",
    "from keras.layers import Dense, BatchNormalization, Normalization\n",
    "import numpy as np"
   ]
  },
  {
   "cell_type": "code",
   "execution_count": 6,
   "id": "664fea42",
   "metadata": {},
   "outputs": [],
   "source": [
    "def allocate_data(training_files):\n",
    "    dfs = {}\n",
    "    for file in training_files:\n",
    "        df = pd.read_excel(file, sheet_name=\"DATA\", usecols='C,D', skiprows = 1)\n",
    "        df.columns = ['temp', 'label']\n",
    "        df.loc[df.shape[0]] = [None, None]# to ensure that there are breaks between each recorded shower\n",
    "        dfs[file] = df\n",
    "    data = pd.concat(list(dfs.values()), ignore_index = True)# concatenating all our data into one big dataframe\n",
    "    return data"
   ]
  },
  {
   "cell_type": "code",
   "execution_count": 7,
   "id": "d14ab786",
   "metadata": {},
   "outputs": [],
   "source": [
    "def train_models(data, model_type):\n",
    "    if model_type == 'Start':\n",
    "        window_size = 19\n",
    "    elif model_type == 'End':\n",
    "        window_size = 25\n",
    "    #list where the first item is 1 for model_type and 0 for not model_type:\n",
    "    pts = []\n",
    "\n",
    "    for i, row in data.iterrows():\n",
    "        if not pd.isnull(row['label']):\n",
    "            if row['label'].startswith(model_type):\n",
    "                pts.append([1] + data.iloc[i-window_size//2:i+window_size//2+1]['temp'].tolist())\n",
    "\n",
    "    initial_length = len(pts)\n",
    "\n",
    "    #taking a random sample of indices (without replacement) of size k\n",
    "    random_indices = random.sample(range(len(data) - window_size), k = len(data) - window_size)\n",
    "\n",
    "    i = 0\n",
    "    for _ in range(initial_length):\n",
    "        # none of the temp data can be null, and the midpoint can't be a pointed labeled with the model type.\n",
    "        while any(pd.isnull(data.iloc[i:i+window_size]['temp'])) or (\n",
    "            not pd.isnull(data.iloc[i+window_size//2]['label']) and data.iloc[i+window_size//2]['label'].startswith(model_type)\n",
    "        ):\n",
    "            i += 1\n",
    "        pts.append([0] + data.iloc[i:i+window_size]['temp'].tolist())\n",
    "        i += 1\n",
    "\n",
    "    #tensors holding the label, followed by a list of 10 temperatures:\n",
    "    data = np.asarray(pts)\n",
    "    np.random.shuffle(data)\n",
    "\n",
    "    model = Sequential(\n",
    "        [\n",
    "            BatchNormalization(),\n",
    "            Dense(2**4, activation = 'relu', input_shape=(window_size,)),\n",
    "            Dense(1, activation = 'sigmoid')\n",
    "        ]\n",
    "    )\n",
    "\n",
    "    model.compile(\n",
    "        loss='mse',\n",
    "        metrics=['mae'],\n",
    "        optimizer = tf.keras.optimizers.Adam(learning_rate=1e-4)\n",
    "    )\n",
    "\n",
    "    model.fit(\n",
    "        data[:,1:],\n",
    "        data[:,0],\n",
    "        epochs = int(4*1e5),\n",
    "        verbose = 0\n",
    "    )\n",
    "    return model"
   ]
  },
  {
   "cell_type": "code",
   "execution_count": 4,
   "id": "430dbebb",
   "metadata": {},
   "outputs": [],
   "source": [
    "def simulate(test_file, training_files):\n",
    "    data = allocate_data(training_files)    \n",
    "    start_model = train_model(data, 'Start')\n",
    "    end_model = train_model(data, 'End')\n",
    "    test_data = pd.read_excel(test_file, sheet_name=\"DATA\", usecols='C,D', skiprows = 1)\n",
    "    test_data.columns = ['temp', 'label']\n",
    "    \n"
   ]
  },
  {
   "cell_type": "code",
   "execution_count": 5,
   "id": "f9780369",
   "metadata": {},
   "outputs": [
    {
     "data": {
      "text/plain": [
       "11"
      ]
     },
     "execution_count": 5,
     "metadata": {},
     "output_type": "execute_result"
    }
   ],
   "source": [
    "for i in range(len(files)):\n",
    "    simulate(files[i], files[:i] + files[i+1:])"
   ]
  },
  {
   "cell_type": "code",
   "execution_count": 2,
   "id": "285a5de4",
   "metadata": {},
   "outputs": [],
   "source": [
    "os.chdir('data_flattened')\n",
    "files = os.listdir()"
   ]
  },
  {
   "cell_type": "code",
   "execution_count": 5,
   "id": "e220dac4",
   "metadata": {},
   "outputs": [],
   "source": [
    "test_file = files[0]\n",
    "test_data = pd.read_excel(test_file, sheet_name=\"DATA\", usecols='C,D', skiprows = 1)\n",
    "test_data.columns = ['temp', 'label']"
   ]
  },
  {
   "cell_type": "code",
   "execution_count": 12,
   "id": "42ea4db6",
   "metadata": {},
   "outputs": [],
   "source": [
    "for n in test_data['temp']:\n",
    "    if pd.isnull(n):\n",
    "        print(n)"
   ]
  },
  {
   "cell_type": "code",
   "execution_count": 21,
   "id": "1c48c9d0",
   "metadata": {},
   "outputs": [
    {
     "data": {
      "text/plain": [
       "366"
      ]
     },
     "execution_count": 21,
     "metadata": {},
     "output_type": "execute_result"
    }
   ],
   "source": [
    "test_data['label'].tolist().index('End')"
   ]
  },
  {
   "cell_type": "code",
   "execution_count": 24,
   "id": "22659fa3",
   "metadata": {},
   "outputs": [
    {
     "data": {
      "text/plain": [
       "4788"
      ]
     },
     "execution_count": 24,
     "metadata": {},
     "output_type": "execute_result"
    }
   ],
   "source": [
    "[i for i,n in enumerate(test_data['label']) if n == 'Start'][1]"
   ]
  },
  {
   "cell_type": "code",
   "execution_count": 25,
   "id": "df04df6d",
   "metadata": {},
   "outputs": [
    {
     "data": {
      "text/plain": [
       "[<matplotlib.lines.Line2D at 0x7f7a024e3fd0>]"
      ]
     },
     "execution_count": 25,
     "metadata": {},
     "output_type": "execute_result"
    },
    {
     "data": {
      "image/png": "[encoded data removed]",
      "text/plain": [
       "<Figure size 432x288 with 1 Axes>"
      ]
     },
     "metadata": {
      "needs_background": "light"
     },
     "output_type": "display_data"
    }
   ],
   "source": [
    "plt.plot(test_data['temp'][366:4788])"
   ]
  },
  {
   "cell_type": "code",
   "execution_count": 27,
   "id": "e0f2f2c5",
   "metadata": {},
   "outputs": [],
   "source": [
    "os.chdir('../data')"
   ]
  },
  {
   "cell_type": "code",
   "execution_count": 29,
   "id": "3dfaa667",
   "metadata": {},
   "outputs": [
    {
     "name": "stdout",
     "output_type": "stream",
     "text": [
      "['.DS_Store', 'S19', 'F19 groundtruthed']\n"
     ]
    }
   ],
   "source": [
    "files = os.listdir()\n",
    "print(files)"
   ]
  },
  {
   "cell_type": "code",
   "execution_count": 68,
   "id": "d1cd0e39",
   "metadata": {},
   "outputs": [],
   "source": [
    "os.chdir('../F19 groundtruthed')"
   ]
  },
  {
   "cell_type": "code",
   "execution_count": 69,
   "id": "3787621e",
   "metadata": {},
   "outputs": [
    {
     "name": "stdout",
     "output_type": "stream",
     "text": [
      "['Copy of South 20461369 2019-12-20 13_18_02 -0500.xlsx', 'Copy of South 20461369 2019-12-09 20_05_46 -0500.xlsx', 'Copy of Kahn noah400 2019-12-04 22_07_07 -0500.xlsx', '~$Copy of Dascomb 20461369 2019-12-02 18_07_58 -0500.xlsx', 'Copy of Noah noah400 2019-12-15 22_41_10 -0500.xlsx', 'Copy of Dascomb 20461369 2019-12-02 18_07_58 -0500.xlsx', 'Copy of Harkness 20461368 2019-12-02 17_36_48 -0500.xlsx']\n"
     ]
    }
   ],
   "source": [
    "files = os.listdir()\n",
    "print(files)"
   ]
  },
  {
   "cell_type": "code",
   "execution_count": 73,
   "id": "4f347c92",
   "metadata": {},
   "outputs": [],
   "source": [
    "test_data = pd.read_excel(test_file, sheet_name=\"DATA\", skiprows = 1)"
   ]
  },
  {
   "cell_type": "code",
   "execution_count": 82,
   "id": "2350422c",
   "metadata": {},
   "outputs": [],
   "source": [
    "start_indices = [i for i, label in enumerate(test_data.iloc[:,3]) if str(label).startswith('Start')]\n",
    "end_indices = [i for i, label in enumerate(test_data.iloc[:,3]) if str(label).startswith('End')]"
   ]
  },
  {
   "cell_type": "code",
   "execution_count": 90,
   "id": "93e7ae02",
   "metadata": {},
   "outputs": [
    {
     "data": {
      "text/plain": [
       "[<matplotlib.lines.Line2D at 0x7f79e7aa32b0>]"
      ]
     },
     "execution_count": 90,
     "metadata": {},
     "output_type": "execute_result"
    },
    {
     "data": {
      "image/png": "[encoded data removed]",
      "text/plain": [
       "<Figure size 432x288 with 1 Axes>"
      ]
     },
     "metadata": {
      "needs_background": "light"
     },
     "output_type": "display_data"
    }
   ],
   "source": [
    "plt.plot(test_data.iloc[:,2][start_indices[0]:end_indices[0]])"
   ]
  },
  {
   "cell_type": "code",
   "execution_count": 80,
   "id": "6c5f7995",
   "metadata": {},
   "outputs": [
    {
     "data": {
      "text/plain": [
       "[<matplotlib.lines.Line2D at 0x7f7a03911940>]"
      ]
     },
     "execution_count": 80,
     "metadata": {},
     "output_type": "execute_result"
    },
    {
     "data": {
      "image/png": "[encoded data removed]",
      "text/plain": [
       "<Figure size 432x288 with 1 Axes>"
      ]
     },
     "metadata": {
      "needs_background": "light"
     },
     "output_type": "display_data"
    }
   ],
   "source": [
    "plt.plot(test_data.iloc[:,2])"
   ]
  },
  {
   "cell_type": "code",
   "execution_count": 70,
   "id": "a53d63d6",
   "metadata": {},
   "outputs": [],
   "source": [
    "test_file = files[0]\n",
    "test_data = pd.read_excel(test_file, sheet_name=\"DATA\", usecols='C,D', skiprows = 1)\n",
    "test_data.columns = ['temp', 'label']"
   ]
  },
  {
   "cell_type": "code",
   "execution_count": 71,
   "id": "b073008d",
   "metadata": {},
   "outputs": [],
   "source": [
    "start_indices = [i for i, label in enumerate(test_data['label']) if str(label).startswith('Start')]"
   ]
  },
  {
   "cell_type": "code",
   "execution_count": 72,
   "id": "8ed67a3c",
   "metadata": {},
   "outputs": [
    {
     "data": {
      "image/png": "[encoded data removed]",
      "text/plain": [
       "<Figure size 432x288 with 1 Axes>"
      ]
     },
     "metadata": {
      "needs_background": "light"
     },
     "output_type": "display_data"
    }
   ],
   "source": [
    "for i in range(len(start_indices) - 1):\n",
    "    plt.plot(test_data['temp'][start_indices[i]:start_indices[i+1]])"
   ]
  },
  {
   "cell_type": "code",
   "execution_count": 95,
   "id": "370ddda8",
   "metadata": {},
   "outputs": [],
   "source": [
    "files = os.listdir()"
   ]
  },
  {
   "cell_type": "code",
   "execution_count": 151,
   "id": "a5ea3844",
   "metadata": {},
   "outputs": [],
   "source": [
    "test_file = files[3]\n",
    "test_data = pd.read_excel(test_file, sheet_name=\"DATA\", skiprows = 1)"
   ]
  },
  {
   "cell_type": "code",
   "execution_count": 152,
   "id": "d5ed9f9a",
   "metadata": {},
   "outputs": [
    {
     "data": {
      "text/html": [
       "<div>\n",
       "<style scoped>\n",
       "    .dataframe tbody tr th:only-of-type {\n",
       "        vertical-align: middle;\n",
       "    }\n",
       "\n",
       "    .dataframe tbody tr th {\n",
       "        vertical-align: top;\n",
       "    }\n",
       "\n",
       "    .dataframe thead th {\n",
       "        text-align: right;\n",
       "    }\n",
       "</style>\n",
       "<table border=\"1\" class=\"dataframe\">\n",
       "  <thead>\n",
       "    <tr style=\"text-align: right;\">\n",
       "      <th></th>\n",
       "      <th>#</th>\n",
       "      <th>Date Time, GMT -0400</th>\n",
       "      <th>Temp, °F</th>\n",
       "      <th>Unnamed: 3</th>\n",
       "      <th>Unnamed: 4</th>\n",
       "    </tr>\n",
       "  </thead>\n",
       "  <tbody>\n",
       "    <tr>\n",
       "      <th>0</th>\n",
       "      <td>NaN</td>\n",
       "      <td>NaT</td>\n",
       "      <td>NaN</td>\n",
       "      <td>NaN</td>\n",
       "      <td>NaN</td>\n",
       "    </tr>\n",
       "    <tr>\n",
       "      <th>1</th>\n",
       "      <td>NaN</td>\n",
       "      <td>NaT</td>\n",
       "      <td>NaN</td>\n",
       "      <td>NaN</td>\n",
       "      <td>NaN</td>\n",
       "    </tr>\n",
       "    <tr>\n",
       "      <th>2</th>\n",
       "      <td>NaN</td>\n",
       "      <td>NaT</td>\n",
       "      <td>NaN</td>\n",
       "      <td>NaN</td>\n",
       "      <td>NaN</td>\n",
       "    </tr>\n",
       "    <tr>\n",
       "      <th>3</th>\n",
       "      <td>NaN</td>\n",
       "      <td>NaT</td>\n",
       "      <td>NaN</td>\n",
       "      <td>NaN</td>\n",
       "      <td>NaN</td>\n",
       "    </tr>\n",
       "    <tr>\n",
       "      <th>4</th>\n",
       "      <td>NaN</td>\n",
       "      <td>NaT</td>\n",
       "      <td>NaN</td>\n",
       "      <td>NaN</td>\n",
       "      <td>NaN</td>\n",
       "    </tr>\n",
       "    <tr>\n",
       "      <th>...</th>\n",
       "      <td>...</td>\n",
       "      <td>...</td>\n",
       "      <td>...</td>\n",
       "      <td>...</td>\n",
       "      <td>...</td>\n",
       "    </tr>\n",
       "    <tr>\n",
       "      <th>3893</th>\n",
       "      <td>3894.0</td>\n",
       "      <td>2021-03-27 12:12:44</td>\n",
       "      <td>78.945195</td>\n",
       "      <td>NaN</td>\n",
       "      <td>NaN</td>\n",
       "    </tr>\n",
       "    <tr>\n",
       "      <th>3894</th>\n",
       "      <td>3895.0</td>\n",
       "      <td>2021-03-27 12:13:04</td>\n",
       "      <td>78.790754</td>\n",
       "      <td>NaN</td>\n",
       "      <td>NaN</td>\n",
       "    </tr>\n",
       "    <tr>\n",
       "      <th>3895</th>\n",
       "      <td>3896.0</td>\n",
       "      <td>2021-03-27 12:13:24</td>\n",
       "      <td>78.636313</td>\n",
       "      <td>NaN</td>\n",
       "      <td>NaN</td>\n",
       "    </tr>\n",
       "    <tr>\n",
       "      <th>3896</th>\n",
       "      <td>3897.0</td>\n",
       "      <td>2021-03-27 12:13:44</td>\n",
       "      <td>78.559092</td>\n",
       "      <td>NaN</td>\n",
       "      <td>NaN</td>\n",
       "    </tr>\n",
       "    <tr>\n",
       "      <th>3897</th>\n",
       "      <td>3898.0</td>\n",
       "      <td>2021-03-27 12:14:04</td>\n",
       "      <td>78.404650</td>\n",
       "      <td>NaN</td>\n",
       "      <td>NaN</td>\n",
       "    </tr>\n",
       "  </tbody>\n",
       "</table>\n",
       "<p>3898 rows × 5 columns</p>\n",
       "</div>"
      ],
      "text/plain": [
       "           # Date Time, GMT -0400   Temp, °F Unnamed: 3 Unnamed: 4\n",
       "0        NaN                  NaT        NaN        NaN        NaN\n",
       "1        NaN                  NaT        NaN        NaN        NaN\n",
       "2        NaN                  NaT        NaN        NaN        NaN\n",
       "3        NaN                  NaT        NaN        NaN        NaN\n",
       "4        NaN                  NaT        NaN        NaN        NaN\n",
       "...      ...                  ...        ...        ...        ...\n",
       "3893  3894.0  2021-03-27 12:12:44  78.945195        NaN        NaN\n",
       "3894  3895.0  2021-03-27 12:13:04  78.790754        NaN        NaN\n",
       "3895  3896.0  2021-03-27 12:13:24  78.636313        NaN        NaN\n",
       "3896  3897.0  2021-03-27 12:13:44  78.559092        NaN        NaN\n",
       "3897  3898.0  2021-03-27 12:14:04  78.404650        NaN        NaN\n",
       "\n",
       "[3898 rows x 5 columns]"
      ]
     },
     "execution_count": 152,
     "metadata": {},
     "output_type": "execute_result"
    }
   ],
   "source": [
    "test_data"
   ]
  },
  {
   "cell_type": "code",
   "execution_count": 153,
   "id": "28ba2549",
   "metadata": {},
   "outputs": [],
   "source": [
    "i = 0\n",
    "while pd.isnull(test_data.iloc[i,2]):\n",
    "    i += 1"
   ]
  },
  {
   "cell_type": "code",
   "execution_count": 154,
   "id": "930590f2",
   "metadata": {},
   "outputs": [],
   "source": [
    "test_data = test_data.drop(index = range(i))"
   ]
  },
  {
   "cell_type": "code",
   "execution_count": 155,
   "id": "6ad5b3e2",
   "metadata": {},
   "outputs": [],
   "source": [
    "null_indices = [i for i, label in enumerate(test_data.iloc[:,2]) if pd.isnull(label)]"
   ]
  },
  {
   "cell_type": "code",
   "execution_count": 156,
   "id": "2427126a",
   "metadata": {},
   "outputs": [
    {
     "data": {
      "text/plain": [
       "0"
      ]
     },
     "execution_count": 156,
     "metadata": {},
     "output_type": "execute_result"
    }
   ],
   "source": [
    "len(null_indices)"
   ]
  },
  {
   "cell_type": "code",
   "execution_count": 157,
   "id": "710ba1f2",
   "metadata": {},
   "outputs": [
    {
     "name": "stdout",
     "output_type": "stream",
     "text": [
      "[180, 204]\n"
     ]
    }
   ],
   "source": [
    "label_indices = [i for i, label in enumerate(test_data.iloc[:,3]) if not pd.isnull(label)]\n",
    "print(label_indices)"
   ]
  },
  {
   "cell_type": "code",
   "execution_count": 158,
   "id": "63713c50",
   "metadata": {},
   "outputs": [
    {
     "data": {
      "text/plain": [
       "[<matplotlib.lines.Line2D at 0x7f79e7254430>]"
      ]
     },
     "execution_count": 158,
     "metadata": {},
     "output_type": "execute_result"
    },
    {
     "data": {
      "image/png": "[encoded data removed]",
      "text/plain": [
       "<Figure size 432x288 with 1 Axes>"
      ]
     },
     "metadata": {
      "needs_background": "light"
     },
     "output_type": "display_data"
    }
   ],
   "source": [
    "plt.plot(test_data.iloc[:,2])"
   ]
  },
  {
   "cell_type": "code",
   "execution_count": 146,
   "id": "47a0a404",
   "metadata": {},
   "outputs": [],
   "source": [
    "test_data.iloc[label_indices[0],3] = 'Start'\n",
    "test_data.iloc[label_indices[1],3] = 'End'"
   ]
  },
  {
   "cell_type": "code",
   "execution_count": 147,
   "id": "c3db5d2c",
   "metadata": {},
   "outputs": [],
   "source": [
    "os.chdir('../new')"
   ]
  },
  {
   "cell_type": "code",
   "execution_count": 148,
   "id": "63f97aaf",
   "metadata": {},
   "outputs": [
    {
     "data": {
      "text/plain": [
       "'south 2nd floor gender neutral wing with 203REDUCED.xlsx'"
      ]
     },
     "execution_count": 148,
     "metadata": {},
     "output_type": "execute_result"
    }
   ],
   "source": [
    "test_file"
   ]
  },
  {
   "cell_type": "code",
   "execution_count": 149,
   "id": "d2d8ef72",
   "metadata": {},
   "outputs": [],
   "source": [
    "test_data.to_csv('south 2nd floor gender neutral wing with 203REDUCED.csv', index = False)"
   ]
  },
  {
   "cell_type": "code",
   "execution_count": 150,
   "id": "b1df579e",
   "metadata": {},
   "outputs": [],
   "source": [
    "os.chdir('../REDUCED')"
   ]
  }
 ],
 "metadata": {
  "kernelspec": {
   "display_name": "Python 3 (ipykernel)",
   "language": "python",
   "name": "python3"
  },
  "language_info": {
   "codemirror_mode": {
    "name": "ipython",
    "version": 3
   },
   "file_extension": ".py",
   "mimetype": "text/x-python",
   "name": "python",
   "nbconvert_exporter": "python",
   "pygments_lexer": "ipython3",
   "version": "3.9.7"
  }
 },
 "nbformat": 4,
 "nbformat_minor": 5
}
